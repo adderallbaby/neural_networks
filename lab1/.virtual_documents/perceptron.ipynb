import numpy as np
import os
import matplotlib.pyplot as plt
import random
from collections import namedtuple
from mpl_toolkits.mplot3d import Axes3D
import matplotlib.pyplot as plt
from matplotlib import cm
import numpy as np
import math





dataset = {
    0: [1, 1, 1, 1, 
          1, 0, 0, 1,
          1, 0, 0, 1,
          1, 0, 0, 1,      
          1, 1, 1, 1],
          
    0.01: [0, 1, 1, 0, 
          0, 1, 1, 0,
          0, 1, 1, 0,
          0, 1, 1, 0,
          0, 1, 1, 0],
          
    0.02: [1, 1, 1, 1, 
          0, 0, 0, 1,
          1, 1, 1, 1,
          1, 0, 0, 0,
          1, 1, 1, 1],
          
    0.03: [1, 1, 1, 1, 
          0, 0, 0, 1,
          1, 1, 1, 1,
          0, 0, 0, 1,
          1, 1, 1, 1],
          
    0.04: [1, 0, 0, 1, 
          1, 0, 0, 1,
          1, 1, 1, 1,
          0, 0, 0, 1,
          0, 0, 0, 1],
          
    0.05: [1, 1, 1, 1, 
          1, 0, 0, 0,
          1, 1, 1, 1,
          0, 0, 0, 1,
          1, 1, 1, 1],
    0.06: 
         [1, 1, 1, 1, 
          1, 0, 0, 0,
          1, 1, 1, 1,
          1, 0, 0, 1,
          1, 1, 1, 1],
          
    0.07: [1, 1, 1, 1, 
          0, 0, 0, 1,
          0, 0, 1, 0,
          0, 1, 0, 0,
          1, 0, 0, 0],
          
    0.08: [1, 1, 1, 1, 
          1, 0, 0, 1,
          1, 1, 1, 1,
          1, 0, 0, 1,
          1, 1, 1, 1],
          
    0.09: [1, 1, 1, 1, 
          1, 0, 0, 1,
          1, 1, 1, 1,
          0, 0, 0, 1,
          1, 1, 1, 1],
    0.1: 
        [0, 1, 1, 0,
        1, 0, 0, 1,
        1, 1, 1, 1,
        1, 0, 0, 1,
        1, 0, 0, 1]
    ,
    0.11: 
        [1, 0, 0, 0,
        1, 0, 0, 0,
        1, 1, 1, 0,
        1, 0, 0, 1,
        1, 1, 1, 0],
    
    0.12: 
        [0, 1, 1, 1,
        1, 0, 0, 0,
        1, 0, 0, 0,
        1, 0, 0, 0,
        0, 1, 1, 1]
    ,
    0.13: 
        [0, 0, 0, 1,
        0, 0, 0, 1,
        0, 1, 1, 1,
        1, 0, 0, 1,
        0, 1, 1, 1]
    ,
    0.14: 
        [1, 1, 1, 1,
        1, 0, 0, 0,
        1, 1, 1, 1,
        1, 0, 0, 0,
        1, 1, 1, 1]
    ,
    0.15: 
        [1, 1, 1, 1,
        1, 0, 0, 0,
        1, 1, 1, 1,
        1, 0, 0, 0,
        1, 0, 0, 0]
    ,
    0.16: 
        [0, 1, 1, 0,
        1, 0, 0, 1,
        1, 0, 0, 1,
        1, 1, 1, 1,
        0, 1, 1, 1]
    ,
    0.17: 
        [1, 0, 0, 1,
        1, 0, 0, 1,
        1, 1, 1, 1,
        1, 0, 0, 1,
        1, 0, 0, 1]
    ,
    0.18: 
        [0, 1, 1, 0,
        0, 0, 1, 0,
        0, 0, 1, 0,
        0, 0, 1, 0,
        0, 1, 1, 0]
    ,
    0.19: 
        [0, 1, 1, 0,
        0, 0, 1, 0,
        0, 0, 1, 0,
        1, 0, 0, 1,
        0, 1, 1, 0]
    
}


X_train, y_train = list(dataset.values()), list(map(float, dataset.keys()))





def sigmoid(x):
    return 1 / (1 + np.exp(-x))

def ReLU(x):
    return np.maximum(0, x)

def linear(x):
    return x

def tanh(x):
    return np.tanh(x)

def sigmoid_derivative(x):
    return sigmoid(x) * (1 - sigmoid(x))

def tanh_derivative(x):
    return  1 - tanh(x) ** 2

def linear_derivative(x):
    return 1

def ReLU_derivative(x):
    return int((x > 0))

def MSE(x):
    return (np.square(np.diff(x)))

def xavier(n):
    return np.asarray([random.uniform(-1/math.sqrt(n), 1/math.sqrt(n))] * (n + 1))
def He(n):
    return np.asarray([math.sqrt(2/n)] * (n + 1))





class Neuron:
    def __init__(self, input_size, activation, activation_derivative, learning_rate, activation_func):
        self.input_size = input_size
        self.activation = activation
        self.activation_derivative = activation_derivative
        if activation_func == 'ReLu':
            self.weights=He(input_size)

        else:
            self.weights = np.asarray([1/input_size] * (input_size + 1))
        self.learning_rate = learning_rate
        self.results = []

    def fit(self, X, y):
        X = np.append([1], X)
        y_pred = np.dot(self.weights,X)
        layer1 = self.activation(y_pred)

        err = layer1-y
        grad = err * self.activation_derivative(layer1) 
        self.weights -= self.learning_rate * grad * X
        
        return layer1
    def predict(self, X):
        return self.activation(np.dot(self.weights, np.append([1], X)))




Activations = namedtuple('Activations', ['func', 'dfunc', 'f', 't'])



class Perceptron:
    
        def __init__(self, activations, X_train, y_train, learning_rate):
            self.neurons = activations 
            self.X_train = X_train
            self.y_train = y_train
            self.neurons = dict()
            self.learning_rate = learning_rate
            self.activations = activations
            for idx in range(len(X_train)):
                self.neurons[y_train[idx]] = Neuron(20,self.activations.func, self.activations.dfunc, self.learning_rate,activations.func.__name__)

        def fit(self, char, vector):
            res = dict()
            for ch, neuron in self.neurons.items():
                label = self.activations.f
                if ch == char:
                    label = self.activations.t
                res[ch] = neuron.fit(vector, label)
            pred =max(res.keys(), key=lambda x: res[x])
            point = np.asarray((100*pred,100*char))
            return point, MSE(point)

        def train_each(self):
            results = []
            for idx in range(len(self.X_train)):

                p, res = self.fit(self.y_train[idx], self.X_train[idx])
                results.append(np.hstack((p,res)))
            return np.vstack(results)

        def predict(self,features, labels):
            results = []
            for idx in range(len(features)):
                p, res = self.fit(labels[idx], features[idx])
                results.append(np.hstack((p,res)))
            return np.vstack(results)
            
        def train(self,num_epoch):
            results = []
            resMSE = []
            for i in range(num_epoch):
                r = self.train_each()
                results.append(r)
            path = []
            results_end = results[num_epoch-10:]
            results_start = results[:10]
            results_end = np.vstack(results_end)
            results_start = np.vstack(results_start)
    
            X, Y = np.meshgrid(np.linspace(0, 20, 400), np.linspace(0, 20, 400))
            plt.style.use('dark_background')

            fig = plt.figure(figsize=(16, 10))
            ax = fig.add_subplot(projection='3d')
            
            zs = np.array([MSE(np.array([x,y]))
                          for x, y in zip(np.ravel(X), np.ravel(Y))])
            Z = zs.reshape(X.shape)
            ax.plot_surface(X, Y, Z, cmap=cm.Spectral_r, zorder=3)
            ax.plot(xs=results_start[:, 0], ys=results_start[:, 1], zs=results_start[:, 2],
                    marker='d', markersize=10, zorder=3,
                    markerfacecolor='b', lw=3, c='black',label='MSE в начале обучения')

            ax.plot(xs=results_end[:, 0], ys=results_end[:, 1], zs=results_end[:, 2],
                    marker='*', markersize=10, zorder=3,
                    markerfacecolor='y', lw=3, c='black',label='MSE в конце обучения')
            ax.set_zlim(0, 400)
            ax.view_init(elev=20, azim=40)
            plt.legend()
            plt.show()  






LR = 0.01
Perceptron(Activations(sigmoid, sigmoid_derivative, 0, 1),X_train,y_train, LR).train(45)



LR = 0.01

p = Perceptron(Activations(ReLU, ReLU_derivative, 0, 1),X_train,y_train, LR)
p.train(80*1)


p = Perceptron(Activations(tanh, tanh_derivative, -1, 1),X_train,y_train, LR)
p.train(150)



p = Perceptron(Activations(linear, linear_derivative, -1, 1),X_train,y_train, LR)
p.train(190)




ds=  {
    0: [1, 1, 1, 1, 
          1, 1, 0, 1,
          1, 0, 0, 1,
          1, 0, 0, 1,      
          1, 1, 1, 1],
          
    0.01: [1, 1, 1, 0, 
          0, 1, 1, 0,
          0, 1, 1, 0,
          0, 1, 1, 0,
          0, 1, 1, 0],
          
    0.02: [1, 1, 1, 1, 
          0, 0, 0, 1,
          1, 1, 1, 1,
          1, 2, 0, 0,
          1, 1, 1, 1],
          
    0.03: [1, 1, 1, 1, 
          0, 0, 0, 1,
          1, 1, 1, 1,
          0, 0, 1, 1,
          1, 1, 1, 1],
          
    0.04: [1, 0, 0, 1, 
          1, 0, 0, 1,
          1, 1, 1, 1,
          0, 0, 0, 1,
          0, 0, 1, 1],
          
    0.05: [1, 1, 1, 0, 
          1, 0, 0, 0,
          1, 1, 1, 1,
          0, 0, 0, 1,
          1, 1, 1, 1],
    0.06: 
         [1, 1, 1, 1, 
          1, 0, 0, 0,
          1, 1, 1, 1,
          1, 1, 0, 1,
          1, 1, 1, 1],
          
    0.07: [1, 1, 1, 1, 
          0, 0, 0, 1,
          0, 0, 1, 0,
          0, 1, 0, 0,
          1, 1, 0, 0],
          
    0.08: [1, 1, 1, 1, 
          1, 0, 0, 1,
          0, 1, 1, 1,
          1, 0, 0, 1,
          1, 1, 1, 1],
          
    0.09: [1, 1, 1, 1, 
          1, 0, 0, 1,
          1, 1, 1, 1,
          0, 0, 0, 1,
          0, 1, 1, 1],
    0.1: 
        [1, 1, 1, 0,
        1, 0, 0, 1,
        1, 1, 1, 1,
        1, 0, 0, 1,
        1, 0, 0, 1]
    ,
    0.11: 
        [1, 1, 0, 0,
        1, 0, 0, 0,
        1, 1, 1, 0,
        1, 0, 0, 1,
        1, 1, 1, 0],
    
    0.12: 
        [0, 1, 1, 0,
        1, 0, 0, 0,
        1, 0, 0, 0,
        1, 0, 0, 0,
        0, 1, 1, 1]
    ,
    0.13: 
        [0, 0, 0, 1,
        0, 0, 0, 1,
        0, 1, 1, 1,
        1, 0, 0, 1,
        1, 1, 1, 1]
    ,
    0.14: 
        [1, 1, 1, 1,
        1, 0, 0, 0,
        1, 1, 1, 1,
        1, 1, 0, 0,
        1, 1, 1, 1]
    ,
    0.15: 
        [1, 1, 1, 1,
        1, 0, 0, 0,
        1, 1, 1, 1,
        1, 0, 0, 0,
        1, 1, 0, 0]
    ,
    0.16: 
        [0, 1, 1, 1,
        1, 0, 0, 1,
        1, 0, 0, 1,
        1, 1, 1, 1,
        0, 1, 1, 1]
    ,
    0.17: 
        [1, 0, 0, 0,
        1, 0, 0, 1,
        1, 1, 1, 1,
        1, 0, 0, 1,
        1, 0, 0, 1]
    ,
    0.18: 
        [0, 1, 1, 0,
        0, 0, 1, 0,
        0, 0, 1, 0,
        0, 0, 1, 0,
        1, 1, 1, 0]
    ,
    0.19: 
        [0, 1, 1, 0,
        0, 0, 1, 0,
        0, 0, 1, 0,
        1, 0, 0, 1,
        1, 1, 1, 0]
    
}


X_test, y_test = list(ds.values()), list(ds.keys())



results = (p.predict(X_test,y_test))
for result in results:
    print(f'Actual char: {int(result[1])}; Predicted char: {int(result[0])}; MSE: {result[2]}')




